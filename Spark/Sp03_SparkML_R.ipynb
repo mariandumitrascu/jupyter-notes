{
 "cells": [
  {
   "cell_type": "code",
   "execution_count": 3,
   "metadata": {},
   "outputs": [],
   "source": [
    "install.packages(\"tidyverse\", dependencies = TRUE)"
   ]
  },
  {
   "cell_type": "code",
   "execution_count": 3,
   "metadata": {},
   "outputs": [],
   "source": [
    "install.packages(\"matrixStats\", dependencies = TRUE)"
   ]
  },
  {
   "cell_type": "code",
   "execution_count": 8,
   "metadata": {},
   "outputs": [
    {
     "name": "stderr",
     "output_type": "stream",
     "text": [
      "Installing package into ‘/usr/local/spark-2.4.1-bin-hadoop2.7/R/lib’\n",
      "(as ‘lib’ is unspecified)\n",
      "also installing the dependency ‘recipes’\n",
      "\n"
     ]
    }
   ],
   "source": [
    "install.packages(\"caret\")"
   ]
  },
  {
   "cell_type": "code",
   "execution_count": 13,
   "metadata": {},
   "outputs": [
    {
     "name": "stderr",
     "output_type": "stream",
     "text": [
      "Installing package into ‘/usr/local/spark-2.4.1-bin-hadoop2.7/R/lib’\n",
      "(as ‘lib’ is unspecified)\n"
     ]
    }
   ],
   "source": [
    "install.packages(\"Rborist\")"
   ]
  },
  {
   "cell_type": "code",
   "execution_count": 15,
   "metadata": {},
   "outputs": [
    {
     "name": "stderr",
     "output_type": "stream",
     "text": [
      "Installing package into ‘/usr/local/spark-2.4.1-bin-hadoop2.7/R/lib’\n",
      "(as ‘lib’ is unspecified)\n"
     ]
    }
   ],
   "source": [
    "install.packages(\"dslabs\")"
   ]
  },
  {
   "cell_type": "code",
   "execution_count": 16,
   "metadata": {},
   "outputs": [
    {
     "name": "stderr",
     "output_type": "stream",
     "text": [
      "Installing package into ‘/usr/local/spark-2.4.1-bin-hadoop2.7/R/lib’\n",
      "(as ‘lib’ is unspecified)\n"
     ]
    }
   ],
   "source": [
    "install.packages(\"rafalib\")"
   ]
  },
  {
   "cell_type": "code",
   "execution_count": 14,
   "metadata": {},
   "outputs": [
    {
     "name": "stderr",
     "output_type": "stream",
     "text": [
      "Installing package into ‘/usr/local/spark-2.4.1-bin-hadoop2.7/R/lib’\n",
      "(as ‘lib’ is unspecified)\n"
     ]
    }
   ],
   "source": [
    "install.packages(\"RColorBrewer\")"
   ]
  },
  {
   "cell_type": "code",
   "execution_count": 1,
   "metadata": {},
   "outputs": [
    {
     "name": "stderr",
     "output_type": "stream",
     "text": [
      "── Attaching packages ─────────────────────────────────────── tidyverse 1.2.1 ──\n",
      "✔ ggplot2 3.1.1       ✔ purrr   0.3.2  \n",
      "✔ tibble  2.1.1       ✔ dplyr   0.8.0.1\n",
      "✔ tidyr   0.8.3       ✔ stringr 1.4.0  \n",
      "✔ readr   1.3.1       ✔ forcats 0.4.0  \n",
      "── Conflicts ────────────────────────────────────────── tidyverse_conflicts() ──\n",
      "✖ dplyr::filter() masks stats::filter()\n",
      "✖ dplyr::lag()    masks stats::lag()\n",
      "\n",
      "Attaching package: ‘matrixStats’\n",
      "\n",
      "The following object is masked from ‘package:dplyr’:\n",
      "\n",
      "    count\n",
      "\n",
      "Loading required package: lattice\n",
      "\n",
      "Attaching package: ‘caret’\n",
      "\n",
      "The following object is masked from ‘package:purrr’:\n",
      "\n",
      "    lift\n",
      "\n",
      "Rborist 0.1-17\n",
      "Type RboristNews() to see new features/changes/bug fixes.\n"
     ]
    }
   ],
   "source": [
    "library(tidyverse)\n",
    "library(matrixStats)\n",
    "library(caret)\n",
    "library(Rborist)\n",
    "library(RColorBrewer)\n",
    "library(dslabs)\n",
    "library(rafalib)"
   ]
  },
  {
   "cell_type": "code",
   "execution_count": null,
   "metadata": {},
   "outputs": [],
   "source": []
  },
  {
   "cell_type": "code",
   "execution_count": 16,
   "metadata": {},
   "outputs": [
    {
     "name": "stdout",
     "output_type": "stream",
     "text": [
      "     [,1] [,2] [,3] [,4] [,5]\n",
      "[1,]    1    2    3    4    5\n",
      "[2,]    2    0    3    4    5\n",
      "[3,]    4    0    0    6    7\n"
     ]
    }
   ],
   "source": [
    "x <- matrix(c(  1,   2,   3,   4,   5, \n",
    "                2,   0,   3,   4,   5,\n",
    "                4,   0,   0,   6,   7  ), \n",
    "            nrow = 3, ncol = 5, byrow = TRUE)\n",
    "print(x)"
   ]
  },
  {
   "cell_type": "code",
   "execution_count": 21,
   "metadata": {},
   "outputs": [
    {
     "data": {
      "text/plain": [
       "Importance of first k=2 (out of 3) components:\n",
       "                          PC1    PC2\n",
       "Standard deviation     2.8848 1.0057\n",
       "Proportion of Variance 0.8916 0.1084\n",
       "Cumulative Proportion  0.8916 1.0000"
      ]
     },
     "metadata": {},
     "output_type": "display_data"
    }
   ],
   "source": [
    "pca <- prcomp(x, retx = TRUE, rank. = 2)\n",
    "summary(pca)"
   ]
  },
  {
   "cell_type": "code",
   "execution_count": 22,
   "metadata": {},
   "outputs": [
    {
     "data": {
      "text/html": [
       "<table>\n",
       "<thead><tr><th scope=col>PC1</th><th scope=col>PC2</th></tr></thead>\n",
       "<tbody>\n",
       "\t<tr><td>-2.159303 </td><td> 0.8842262</td></tr>\n",
       "\t<tr><td>-1.116939 </td><td>-1.0940252</td></tr>\n",
       "\t<tr><td> 3.276242 </td><td> 0.2097990</td></tr>\n",
       "</tbody>\n",
       "</table>\n"
      ],
      "text/latex": [
       "\\begin{tabular}{ll}\n",
       " PC1 & PC2\\\\\n",
       "\\hline\n",
       "\t -2.159303  &  0.8842262\\\\\n",
       "\t -1.116939  & -1.0940252\\\\\n",
       "\t  3.276242  &  0.2097990\\\\\n",
       "\\end{tabular}\n"
      ],
      "text/markdown": [
       "\n",
       "| PC1 | PC2 |\n",
       "|---|---|\n",
       "| -2.159303  |  0.8842262 |\n",
       "| -1.116939  | -1.0940252 |\n",
       "|  3.276242  |  0.2097990 |\n",
       "\n"
      ],
      "text/plain": [
       "     PC1       PC2       \n",
       "[1,] -2.159303  0.8842262\n",
       "[2,] -1.116939 -1.0940252\n",
       "[3,]  3.276242  0.2097990"
      ]
     },
     "metadata": {},
     "output_type": "display_data"
    }
   ],
   "source": [
    "pca$x"
   ]
  },
  {
   "cell_type": "code",
   "execution_count": 19,
   "metadata": {},
   "outputs": [
    {
     "data": {
      "text/html": [
       "<table>\n",
       "<thead><tr><th scope=col>PC1</th><th scope=col>PC2</th><th scope=col>PC3</th></tr></thead>\n",
       "<tbody>\n",
       "\t<tr><td> 0.5234221</td><td>-0.2296998</td><td> 0.1148970</td></tr>\n",
       "\t<tr><td>-0.2594707</td><td> 0.8742758</td><td> 0.0574485</td></tr>\n",
       "\t<tr><td>-0.5905301</td><td>-0.3111571</td><td>-0.6386837</td></tr>\n",
       "\t<tr><td> 0.3936867</td><td> 0.2074381</td><td>-0.5364613</td></tr>\n",
       "\t<tr><td> 0.3936867</td><td> 0.2074381</td><td>-0.5364613</td></tr>\n",
       "</tbody>\n",
       "</table>\n"
      ],
      "text/latex": [
       "\\begin{tabular}{lll}\n",
       " PC1 & PC2 & PC3\\\\\n",
       "\\hline\n",
       "\t  0.5234221 & -0.2296998 &  0.1148970\\\\\n",
       "\t -0.2594707 &  0.8742758 &  0.0574485\\\\\n",
       "\t -0.5905301 & -0.3111571 & -0.6386837\\\\\n",
       "\t  0.3936867 &  0.2074381 & -0.5364613\\\\\n",
       "\t  0.3936867 &  0.2074381 & -0.5364613\\\\\n",
       "\\end{tabular}\n"
      ],
      "text/markdown": [
       "\n",
       "| PC1 | PC2 | PC3 |\n",
       "|---|---|---|\n",
       "|  0.5234221 | -0.2296998 |  0.1148970 |\n",
       "| -0.2594707 |  0.8742758 |  0.0574485 |\n",
       "| -0.5905301 | -0.3111571 | -0.6386837 |\n",
       "|  0.3936867 |  0.2074381 | -0.5364613 |\n",
       "|  0.3936867 |  0.2074381 | -0.5364613 |\n",
       "\n"
      ],
      "text/plain": [
       "     PC1        PC2        PC3       \n",
       "[1,]  0.5234221 -0.2296998  0.1148970\n",
       "[2,] -0.2594707  0.8742758  0.0574485\n",
       "[3,] -0.5905301 -0.3111571 -0.6386837\n",
       "[4,]  0.3936867  0.2074381 -0.5364613\n",
       "[5,]  0.3936867  0.2074381 -0.5364613"
      ]
     },
     "metadata": {},
     "output_type": "display_data"
    }
   ],
   "source": [
    "pca$rotation"
   ]
  }
 ],
 "metadata": {
  "kernelspec": {
   "display_name": "R",
   "language": "R",
   "name": "ir"
  },
  "language_info": {
   "codemirror_mode": "r",
   "file_extension": ".r",
   "mimetype": "text/x-r-source",
   "name": "R",
   "pygments_lexer": "r",
   "version": "3.5.1"
  }
 },
 "nbformat": 4,
 "nbformat_minor": 2
}
