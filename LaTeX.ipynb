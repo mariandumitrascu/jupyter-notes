{
 "cells": [
  {
   "cell_type": "markdown",
   "metadata": {},
   "source": [
    "# LaTeX\n",
    "\n",
    "TeX input processor in Jupyter implements only the ma-th mode macros of TeX and LaTeX, NOT the text-mode macros. For text, Jupyter expects HTML tags. \n",
    "\n",
    "Two exception to this rule: \n",
    "* MathJax supports the \\ref macro outside of math-mode.\n",
    "* MathJax supports some macros that add text within math-mode (such as \\text{}) as well as $...$ within such macros (to switch back into math-mode) and \\$ to escape.\n",
    "\n"
   ]
  },
  {
   "cell_type": "markdown",
   "metadata": {},
   "source": [
    "\\begin{align}\n",
    "\\dot{x} & = \\sigma(y-x) \\\\\n",
    "\\dot{y} & = \\rho x - y - xz \\\\\n",
    "\\dot{z} & = -\\beta z + xy \\\\\n",
    "\\\\\n",
    "\\hat{\\beta\\gamma}\n",
    "% comment\n",
    "\\end{align}"
   ]
  },
  {
   "cell_type": "markdown",
   "metadata": {},
   "source": [
    "## environments"
   ]
  },
  {
   "cell_type": "raw",
   "metadata": {},
   "source": [
    "\\begin{environmentname}\n",
    "text to be influenced\n",
    "\\end{environmentname}"
   ]
  },
  {
   "cell_type": "markdown",
   "metadata": {},
   "source": [
    "### *align* environment"
   ]
  },
  {
   "cell_type": "raw",
   "metadata": {},
   "source": [
    "\\begin{align}\n",
    " f(x) &= x^4 + 7x^3 + 2x^2 \\nonumber \\\\\n",
    "      &\\qquad {} + 10x + 12\n",
    "\\end{align}"
   ]
  },
  {
   "cell_type": "markdown",
   "metadata": {},
   "source": [
    "\\begin{align}\n",
    " f(x) &= x^4 + 7x^3 + 2x^2 \\nonumber \\\\\n",
    "      &\\qquad {} + 10x + 12\n",
    "\\end{align}"
   ]
  },
  {
   "cell_type": "raw",
   "metadata": {},
   "source": [
    "The align environment must not be nested inside an equation (or similar) environment. \n",
    "Instead, align is a replacement for such environments; the contents inside an align are automatically placed in math mode.\n",
    "\n",
    "align* suppresses numbering. To force numbering on a specific line, use the \\tag{...} command before the line break.\n",
    "align is similar, but automatically numbers each line like the equation environment. \n",
    "Individual lines may be referred to by placing a \\label{...} before the line break. \n",
    "The \\nonumber or \\notag command can be used to suppress the number for a given line:\n",
    "\n",
    "\\begin{align*}\n",
    " f(x)  &= a x^2+b x +c   &   g(x)  &= d x^3 \\\\\n",
    " f'(x) &= 2 a x +b       &   g'(x) &= 3 d x^2\n",
    "\\end{align*}"
   ]
  },
  {
   "cell_type": "markdown",
   "metadata": {},
   "source": [
    "\\begin{align*}\n",
    " f(x)  &= a x^2+b x +c   &   g(x)  &= d x^3 \\\\\n",
    " f'(x) &= 2 a x +b       &   g'(x) &= 3 d x^2\n",
    "\\end{align*}"
   ]
  },
  {
   "cell_type": "raw",
   "metadata": {},
   "source": [
    "If you want a brace to continue across a new line, do the following:\n",
    "\n",
    "\\begin{align}\n",
    " f(x) &= \\pi \\left\\{ x^4 + 7x^3 + 2x^2 \\right.\\nonumber\\\\\n",
    " &\\qquad \\left. {} + 10x + 12 \\right\\}\n",
    "\\end{align}"
   ]
  },
  {
   "cell_type": "markdown",
   "metadata": {},
   "source": [
    "\\begin{align}\n",
    " f(x) &= \\pi \\left\\{ x^4 + 7x^3 + 2x^2 \\right.\\nonumber\\\\\n",
    " &\\qquad \\left. {} + 10x + 12 \\right\\}\n",
    "\\end{align}"
   ]
  },
  {
   "cell_type": "markdown",
   "metadata": {},
   "source": [
    "### *array* environment, and piecewise functions"
   ]
  },
  {
   "cell_type": "raw",
   "metadata": {},
   "source": [
    "$$\n",
    "f(x) = \\left\\{\n",
    "  \\begin{array}{lr}\n",
    "    x^2 & : x \\lt 0\\\\\n",
    "    x^3 & : x \\ge 0\n",
    "  \\end{array}\n",
    "\\right.\n",
    "$$"
   ]
  },
  {
   "cell_type": "markdown",
   "metadata": {},
   "source": [
    "$$\n",
    "f(x) = \\left\\{\n",
    "  \\begin{array}{lr}\n",
    "    x^2 & : x \\lt 0\\\\\n",
    "    x^3 & : x \\ge 0\n",
    "  \\end{array}\n",
    "\\right.\n",
    "$$"
   ]
  },
  {
   "cell_type": "markdown",
   "metadata": {},
   "source": [
    "### *cases* environment\n",
    "allows writting of piecewise functions"
   ]
  },
  {
   "cell_type": "raw",
   "metadata": {},
   "source": [
    "$$\n",
    "f(x) = \\left\\{\n",
    "  \\begin{array}{lr}\n",
    "    x^2 & : x \\lt 0\\\\\n",
    "    x^3 & : x \\ge 0\n",
    "  \\end{array}\n",
    "\\right.\n",
    "$$"
   ]
  },
  {
   "cell_type": "markdown",
   "metadata": {},
   "source": [
    "$$\n",
    "f(x) = \\left\\{\n",
    "  \\begin{array}{lr}\n",
    "    x^2 & : x \\lt 0\\\\\n",
    "    x^3 & : x \\ge 0\n",
    "  \\end{array}\n",
    "\\right.\n",
    "$$"
   ]
  },
  {
   "cell_type": "raw",
   "metadata": {},
   "source": [
    "$$\n",
    "a =\n",
    "   \\begin{dcases}\n",
    "     \\int x\\, \\mathrm{d} x\\\\\n",
    "     b^2\n",
    "   \\end{dcases}\n",
    "$$"
   ]
  },
  {
   "cell_type": "markdown",
   "metadata": {},
   "source": [
    "\\documentclass[11pt]{article}\n",
    "    \\usepackage{mathtools}\n",
    "    $$\n",
    "    a =\n",
    "       \\begin{dcases}\n",
    "         \\int x\\, \\mathrm{d} x\\\\\n",
    "         b^2\n",
    "       \\end{dcases}\n",
    "    $$"
   ]
  },
  {
   "cell_type": "markdown",
   "metadata": {},
   "source": [
    "## math delimiters"
   ]
  },
  {
   "cell_type": "raw",
   "metadata": {},
   "source": [
    "$$...$$ is used to display equations \\\n",
    "$...$ is used to display inline equations"
   ]
  },
  {
   "cell_type": "markdown",
   "metadata": {},
   "source": [
    "Inline LaTeX equation $ \\hat{x} < y $"
   ]
  },
  {
   "cell_type": "markdown",
   "metadata": {},
   "source": [
    "### greek letters"
   ]
  },
  {
   "cell_type": "raw",
   "metadata": {},
   "source": [
    "$\\alpha, \\beta, \\gamma, \\Gamma, \\pi, \\Pi, \\phi, \\varphi, \\mu, \\phi$"
   ]
  },
  {
   "cell_type": "markdown",
   "metadata": {},
   "source": [
    "greek letters inline: $\\alpha, \\beta, \\gamma, \\Gamma, \\pi, \\Pi, \\phi, \\varphi, \\mu, \\phi$"
   ]
  },
  {
   "cell_type": "markdown",
   "metadata": {},
   "source": [
    "as an expression: $$\\alpha, \\beta, \\gamma, \\Gamma, \\pi, \\Pi, \\phi, \\varphi, \\mu, \\phi$$"
   ]
  },
  {
   "cell_type": "markdown",
   "metadata": {},
   "source": [
    "## superscript and subscript"
   ]
  },
  {
   "cell_type": "raw",
   "metadata": {},
   "source": [
    "$X^2$    $e^{2x}$"
   ]
  },
  {
   "cell_type": "markdown",
   "metadata": {},
   "source": [
    "$X^2$   $e^{2x}$"
   ]
  },
  {
   "cell_type": "raw",
   "metadata": {},
   "source": [
    "$X_i$  $_{10}C_5$"
   ]
  },
  {
   "cell_type": "markdown",
   "metadata": {},
   "source": [
    "$X_i$  $_{10}C_5$"
   ]
  },
  {
   "cell_type": "markdown",
   "metadata": {},
   "source": [
    "### commands"
   ]
  },
  {
   "cell_type": "raw",
   "metadata": {},
   "source": [
    "\\commandname[option1,option2,...]{argument1}{argument2}..."
   ]
  },
  {
   "cell_type": "raw",
   "metadata": {},
   "source": [
    "$\\sqrt{2\\pi}$"
   ]
  },
  {
   "cell_type": "markdown",
   "metadata": {},
   "source": [
    "$\\sqrt{2\\pi}$"
   ]
  },
  {
   "cell_type": "raw",
   "metadata": {},
   "source": [
    "\\cos (2\\theta) = \\cos^2 \\theta - \\sin^2 \\theta"
   ]
  },
  {
   "cell_type": "markdown",
   "metadata": {},
   "source": [
    "$\\cos (2\\theta) = \\cos^2 \\theta - \\sin^2 \\theta$"
   ]
  },
  {
   "cell_type": "raw",
   "metadata": {},
   "source": [
    "\\lim\\limits_{x \\to \\infty} \\exp(-x) = 0"
   ]
  },
  {
   "cell_type": "markdown",
   "metadata": {},
   "source": [
    "$\\lim\\limits_{x \\to \\infty} \\exp(-x) = 0$"
   ]
  },
  {
   "cell_type": "raw",
   "metadata": {},
   "source": [
    "$x \\equiv a \\pmod{b}$"
   ]
  },
  {
   "cell_type": "markdown",
   "metadata": {},
   "source": [
    "$x \\equiv a \\pmod{b}$"
   ]
  },
  {
   "cell_type": "raw",
   "metadata": {},
   "source": [
    "k_{n+1} = n^2 + k_n^2 - k_{n-1}"
   ]
  },
  {
   "cell_type": "markdown",
   "metadata": {},
   "source": [
    "$k_{n+1} = n^2 + k_n^2 - k_{n-1}$"
   ]
  },
  {
   "cell_type": "raw",
   "metadata": {},
   "source": [
    "An underscore (_) can be used with a vertical bar ( {\\displaystyle |} |) to denote evaluation using subscript notation in mathematics:\n",
    "\n",
    "f(n) = n^5 + 4n^2 + 2|_{n=17}"
   ]
  },
  {
   "cell_type": "markdown",
   "metadata": {},
   "source": [
    "$f(n) = n^5 + 4n^2 + 2|_{n=17}$"
   ]
  },
  {
   "cell_type": "markdown",
   "metadata": {},
   "source": [
    "### fractions and binomials"
   ]
  },
  {
   "cell_type": "raw",
   "metadata": {},
   "source": [
    "\\frac{n!}{k!(n-k)!} = \\binom{n}{k}"
   ]
  },
  {
   "cell_type": "markdown",
   "metadata": {},
   "source": [
    "$\\frac{n!}{k!(n-k)!} = \\binom{n}{k}$"
   ]
  },
  {
   "cell_type": "raw",
   "metadata": {},
   "source": [
    "fractions within fractions:\n",
    "\n",
    "\\frac{\\frac{1}{x} + \\frac{1}{y}}{y - z}"
   ]
  },
  {
   "cell_type": "markdown",
   "metadata": {},
   "source": [
    "$\\frac{\\frac{1}{x} + \\frac{1}{y}}{y - z}$"
   ]
  },
  {
   "cell_type": "markdown",
   "metadata": {},
   "source": [
    "if used as an expression, it will show larger: $$\\frac{\\frac{1}{x} + \\frac{1}{y}}{y - z}$$"
   ]
  },
  {
   "cell_type": "raw",
   "metadata": {},
   "source": [
    "\\frac ab + {\\textstyle \\frac cd + \\frac ef} + \\frac gh"
   ]
  },
  {
   "cell_type": "markdown",
   "metadata": {},
   "source": [
    "$\\frac ab + {\\textstyle \\frac cd + \\frac ef} + \\frac gh$"
   ]
  },
  {
   "cell_type": "raw",
   "metadata": {},
   "source": [
    "\\Bigg[ "
   ]
  },
  {
   "cell_type": "markdown",
   "metadata": {},
   "source": [
    "$\\Bigg[ $"
   ]
  },
  {
   "cell_type": "raw",
   "metadata": {},
   "source": [
    "simple fractions:\n",
    "\n",
    "^3/_7"
   ]
  },
  {
   "cell_type": "markdown",
   "metadata": {},
   "source": [
    "$^3/_7$"
   ]
  },
  {
   "cell_type": "raw",
   "metadata": {},
   "source": [
    "\\! is used to create thin space between letters.\n",
    "\\rm command is used to create right angled bracket."
   ]
  },
  {
   "cell_type": "raw",
   "metadata": {},
   "source": [
    "\\rm I\\! R \n",
    "\\rm AaBb\\alpha\\beta123"
   ]
  },
  {
   "cell_type": "markdown",
   "metadata": {},
   "source": [
    "$ \\rm I\\! R $ <br>\n",
    "$ \\rm AaBb\\alpha\\beta123 $"
   ]
  },
  {
   "cell_type": "raw",
   "metadata": {},
   "source": [
    "Take ${}^1/_2$ cup of sugar, $\\dots$\n",
    " \n",
    "$3\\times{}^1/_2=1{}^1/_2$\n",
    "  \n",
    "$\\displaystyle \\sum$"
   ]
  },
  {
   "cell_type": "markdown",
   "metadata": {},
   "source": [
    "Take ${}^1/_2$ cup of sugar, $\\dots$\n",
    " \n",
    "$3\\times{}^1/_2=1{}^1/_2$\n",
    "  \n",
    "$\\displaystyle \\sum$"
   ]
  },
  {
   "cell_type": "raw",
   "metadata": {},
   "source": [
    "using equation environment works, but referencing equations doesn:\n",
    "\n",
    "\\begin{equation} \\label{eq:greatequation1}\n",
    " f(x)=(x+a)(x+b)\n",
    "\\end{equation}\n",
    "\n",
    "\\begin{equation} \\label{eq:greatequation2}\n",
    " g(x)=(x+a)(x+b)\n",
    "\\end{equation}\n",
    "\n",
    "This is about equation $\\ref{eq:greatequation1}$. <br>\n",
    "And this is about $\\ref{eq:greatequation2}$."
   ]
  },
  {
   "cell_type": "markdown",
   "metadata": {},
   "source": [
    "\\begin{equation} \\label{eq:greatequation1}\n",
    " f(x)=(x+a)(x+b)\n",
    "\\end{equation}\n",
    "\n",
    "\\begin{equation} \\label{eq:greatequation2}\n",
    " g(x)=(x+a)(x+b)\n",
    "\\end{equation}\n",
    "\n",
    "This is about equation $\\ref{eq:greatequation1}$. <br>\n",
    "And this is about $\\ref{eq:greatequation2}$.\n"
   ]
  },
  {
   "cell_type": "markdown",
   "metadata": {},
   "source": [
    "## sums and integrals"
   ]
  },
  {
   "cell_type": "raw",
   "metadata": {},
   "source": [
    "\\displaystyle \\sum_{i=1}^{10} t_i"
   ]
  },
  {
   "cell_type": "markdown",
   "metadata": {},
   "source": [
    "$ \\displaystyle \\sum_{i=1}^{10} t_i $"
   ]
  },
  {
   "cell_type": "raw",
   "metadata": {},
   "source": [
    "the limits for the integrals follow the same notation as for sum. \n",
    "It's also important to represent the integration variables with an upright d, which in math mode is obtained through the \\mathrm{} command, \n",
    "and with a small space separating it from the integrand, which is attained with the \\, command.\n",
    "\n",
    "\\displaystyle \\int_0^\\infinity \\mathrm{e}^{-x}\\,\\mathrm{d}x"
   ]
  },
  {
   "cell_type": "markdown",
   "metadata": {},
   "source": [
    "$ \\displaystyle \\int_0^\\infty \\mathrm{e}^{-x}\\,\\mathrm{d}x $"
   ]
  },
  {
   "cell_type": "raw",
   "metadata": {},
   "source": [
    "the \\substack command allows the use of \\\\ to write the limits over multiple lines:\n",
    "\n",
    "\\displaystyle\\sum_{\\substack{\n",
    "0<i<m \\\\\n",
    "0<j<n}}\n",
    "P(i,j)"
   ]
  },
  {
   "cell_type": "markdown",
   "metadata": {},
   "source": [
    "$ \\displaystyle\\sum_{\\substack{\n",
    "0<i<m \\\\\n",
    "0<j<n}}\n",
    "P(i,j) $"
   ]
  },
  {
   "cell_type": "raw",
   "metadata": {},
   "source": [
    "if you want the limits of an integral to be specified above and below the symbol (like the sum), use the \\limits command:\n",
    "\n",
    "\\displaystyle \\int\\limits_a^b"
   ]
  },
  {
   "cell_type": "markdown",
   "metadata": {},
   "source": [
    "$ \\displaystyle \\int\\limits_a^b $"
   ]
  },
  {
   "cell_type": "markdown",
   "metadata": {},
   "source": [
    "## brackets and delimiters"
   ]
  },
  {
   "cell_type": "raw",
   "metadata": {},
   "source": [
    "\\langle f \\rangle, \\lfloor g \\rfloor,\n",
    "\\lceil h \\rceil, \\ulcorner i \\urcorner"
   ]
  },
  {
   "cell_type": "markdown",
   "metadata": {},
   "source": [
    "$ \\langle f \\rangle, \\lfloor g \\rfloor,\n",
    "\\lceil h \\rceil, \\ulcorner i \\urcorner $"
   ]
  },
  {
   "cell_type": "markdown",
   "metadata": {},
   "source": [
    "## sizing"
   ]
  },
  {
   "cell_type": "raw",
   "metadata": {},
   "source": [
    "\\left(\\frac{x^2}{y^3}\\right)"
   ]
  },
  {
   "cell_type": "markdown",
   "metadata": {},
   "source": [
    "$ \\displaystyle \\left(\\frac{x^2}{y^3}\\right) $"
   ]
  },
  {
   "cell_type": "raw",
   "metadata": {},
   "source": [
    "P\\left(A=2\\middle|\\frac{A^2}{B}>4\\right)"
   ]
  },
  {
   "cell_type": "markdown",
   "metadata": {},
   "source": [
    "$ \\displaystyle P\\left(A=2\\, \\middle|\\frac{A^2}{B}>4\\right) $"
   ]
  },
  {
   "cell_type": "code",
   "execution_count": null,
   "metadata": {},
   "outputs": [],
   "source": [
    "\n",
    "\n",
    "\n",
    "\n",
    "\n",
    "\n",
    "\n",
    "\n",
    "\n",
    "\n",
    "\n",
    "\n",
    "\n",
    "\n",
    "\n",
    "\n",
    "\n",
    "\n",
    "\n",
    "\n",
    "\n",
    "\n",
    "\n",
    "\n",
    "\n",
    "\n",
    "\n",
    "\n",
    "\n",
    "\n",
    "\n",
    "\n",
    "\n",
    "\n",
    "\n",
    "\n",
    "\n",
    "\n",
    "\n",
    "\n",
    "\n",
    "\n",
    "\n",
    "\n",
    "\n",
    "\n",
    "\n",
    "\n",
    "\n",
    "\n",
    "\n",
    "\n"
   ]
  }
 ],
 "metadata": {
  "kernelspec": {
   "display_name": "Python 3",
   "language": "python",
   "name": "python3"
  },
  "language_info": {
   "codemirror_mode": {
    "name": "ipython",
    "version": 3
   },
   "file_extension": ".py",
   "mimetype": "text/x-python",
   "name": "python",
   "nbconvert_exporter": "python",
   "pygments_lexer": "ipython3",
   "version": "3.6.7"
  }
 },
 "nbformat": 4,
 "nbformat_minor": 2
}
