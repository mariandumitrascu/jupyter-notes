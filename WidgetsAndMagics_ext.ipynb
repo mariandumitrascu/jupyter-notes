{
 "cells": [
  {
   "cell_type": "markdown",
   "metadata": {},
   "source": [
    "we retrieve a data that was saved in another notebook"
   ]
  },
  {
   "cell_type": "code",
   "execution_count": 1,
   "metadata": {},
   "outputs": [
    {
     "name": "stdout",
     "output_type": "stream",
     "text": [
      "this is some data that is passed to other notebooks, maybe even with different language\n"
     ]
    }
   ],
   "source": [
    "%store -r data\n",
    "\n",
    "print(data)"
   ]
  },
  {
   "cell_type": "raw",
   "metadata": {},
   "source": [
    "retrieve and show the code saved to _imports.py. this will only show the code, will not execute it"
   ]
  },
  {
   "cell_type": "code",
   "execution_count": 4,
   "metadata": {},
   "outputs": [
    {
     "data": {
      "text/plain": [
       "\u001b[0;34m\u001b[0m\n",
       "\u001b[0;34m\u001b[0m\u001b[0;32mimport\u001b[0m \u001b[0mmatplotlib\u001b[0m\u001b[0;34m.\u001b[0m\u001b[0mpyplot\u001b[0m \u001b[0;32mas\u001b[0m \u001b[0mplt\u001b[0m\u001b[0;34m\u001b[0m\n",
       "\u001b[0;34m\u001b[0m\u001b[0;32mimport\u001b[0m \u001b[0mpandas\u001b[0m \u001b[0;32mas\u001b[0m \u001b[0mpd\u001b[0m\u001b[0;34m\u001b[0m\n",
       "\u001b[0;34m\u001b[0m\u001b[0;32mimport\u001b[0m \u001b[0mpylab\u001b[0m \u001b[0;32mas\u001b[0m \u001b[0mpl\u001b[0m\u001b[0;34m\u001b[0m\n",
       "\u001b[0;34m\u001b[0m\u001b[0;32mimport\u001b[0m \u001b[0mnumpy\u001b[0m \u001b[0;32mas\u001b[0m \u001b[0mnp\u001b[0m\u001b[0;34m\u001b[0m\u001b[0;34m\u001b[0m\u001b[0m\n"
      ]
     },
     "metadata": {},
     "output_type": "display_data"
    }
   ],
   "source": [
    "%pycat _imports.py"
   ]
  },
  {
   "cell_type": "markdown",
   "metadata": {},
   "source": [
    "using %load will load the code, and be able to execute it. saves typing the import all the time"
   ]
  },
  {
   "cell_type": "code",
   "execution_count": 11,
   "metadata": {},
   "outputs": [],
   "source": [
    "# %load _imports.py\n",
    "\n",
    "import matplotlib.pyplot as plt\n",
    "import pandas as pd\n",
    "import pylab as pl\n",
    "import numpy as np\n"
   ]
  },
  {
   "cell_type": "code",
   "execution_count": 17,
   "metadata": {},
   "outputs": [
    {
     "data": {
      "text/html": [
       "\n",
       "<style>\n",
       ".shortcut_key {display: inline-block; width: 15ex; text-align: right; font-family: monospace;}\n",
       ".shortcut_descr {display: inline-block;}\n",
       "div.quickhelp {float: none; width: 100%;}\n",
       "</style>\n"
      ],
      "text/plain": [
       "<IPython.core.display.HTML object>"
      ]
     },
     "metadata": {},
     "output_type": "display_data"
    }
   ],
   "source": [
    "import IPython\n",
    "from IPython.display import Javascript, display, HTML\n",
    "\n",
    "t = \"\"\"var help = IPython.quick_help.build_{0}_help();\n",
    "help.children().first().remove();\n",
    "this.append_output({{output_type: 'display_data', html: help.html()}});\"\"\"\n",
    "\n",
    "def display_command_shortcuts():\n",
    "    display(Javascript(t.format('command')))\n",
    "\n",
    "def display_edit_shortcuts():\n",
    "    display(Javascript(t.format('edit')))\n",
    "\n",
    "display(HTML(\"\"\"\n",
    "<style>\n",
    ".shortcut_key {display: inline-block; width: 15ex; text-align: right; font-family: monospace;}\n",
    ".shortcut_descr {display: inline-block;}\n",
    "div.quickhelp {float: none; width: 100%;}\n",
    "</style>\n",
    "\"\"\"))"
   ]
  },
  {
   "cell_type": "code",
   "execution_count": 18,
   "metadata": {},
   "outputs": [
    {
     "data": {
      "application/javascript": [
       "var help = IPython.quick_help.build_command_help();\n",
       "help.children().first().remove();\n",
       "this.append_output({output_type: 'display_data', html: help.html()});"
      ],
      "text/plain": [
       "<IPython.core.display.Javascript object>"
      ]
     },
     "metadata": {},
     "output_type": "display_data"
    }
   ],
   "source": [
    "display_command_shortcuts()"
   ]
  },
  {
   "cell_type": "code",
   "execution_count": null,
   "metadata": {},
   "outputs": [],
   "source": []
  }
 ],
 "metadata": {
  "kernelspec": {
   "display_name": "Python 3",
   "language": "python",
   "name": "python3"
  },
  "language_info": {
   "codemirror_mode": {
    "name": "ipython",
    "version": 3
   },
   "file_extension": ".py",
   "mimetype": "text/x-python",
   "name": "python",
   "nbconvert_exporter": "python",
   "pygments_lexer": "ipython3",
   "version": "3.7.3"
  }
 },
 "nbformat": 4,
 "nbformat_minor": 2
}
