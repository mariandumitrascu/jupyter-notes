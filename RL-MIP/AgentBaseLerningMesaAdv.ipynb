{
 "cells": [
  {
   "cell_type": "code",
   "execution_count": 2,
   "metadata": {},
   "outputs": [
    {
     "ename": "SyntaxError",
     "evalue": "invalid syntax (<ipython-input-2-2f80b9b6696e>, line 1)",
     "output_type": "error",
     "traceback": [
      "\u001b[0;36m  File \u001b[0;32m\"<ipython-input-2-2f80b9b6696e>\"\u001b[0;36m, line \u001b[0;32m1\u001b[0m\n\u001b[0;31m    from \"AgentBasedLearning.ipynb\" import MoneyModel\u001b[0m\n\u001b[0m                                  ^\u001b[0m\n\u001b[0;31mSyntaxError\u001b[0m\u001b[0;31m:\u001b[0m invalid syntax\n"
     ]
    }
   ],
   "source": [
    "from mesa.visualization.modules import CanvasGrid\n",
    "from mesa.visualization.ModularVisualization import ModularServer\n"
   ]
  },
  {
   "cell_type": "code",
   "execution_count": 3,
   "metadata": {},
   "outputs": [],
   "source": [
    "class MoneyAgent(Agent):\n",
    "    \"\"\" An agent with fixed initial wealth. \"\"\"\n",
    "    def __init__(self, unique_id, model):\n",
    "        super().__init__(unique_id, model)\n",
    "        self.wealth = 1\n",
    "    def step(self):\n",
    "        # here is the agent's step action\n",
    "        if self.wealth == 0:\n",
    "            return\n",
    "        other_agent = self.random.choice(self.model.schedule.agents)\n",
    "        other_agent.wealth += 1\n",
    "        self.wealth -= 1"
   ]
  }
 ],
 "metadata": {
  "kernelspec": {
   "display_name": "Python 3",
   "language": "python",
   "name": "python3"
  },
  "language_info": {
   "codemirror_mode": {
    "name": "ipython",
    "version": 3
   },
   "file_extension": ".py",
   "mimetype": "text/x-python",
   "name": "python",
   "nbconvert_exporter": "python",
   "pygments_lexer": "ipython3",
   "version": "3.6.7"
  }
 },
 "nbformat": 4,
 "nbformat_minor": 2
}
